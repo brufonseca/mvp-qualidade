{
  "cells": [
    {
      "cell_type": "markdown",
      "metadata": {},
      "source": [
        "# MVP - Qualidade de Software, Segurança e Sistemas Inteligentes\n",
        "Bruna Fonseca\n",
        "\n",
        "Dataset escolhido: Classificação de cogumelos\n",
        "\n",
        "Esse dataset possui dados de diversos cogumelos e os classifica entre comestíveis e venenosos.\n",
        "\n",
        "O objetivo é treinar um modelo para identificar de um cogumelo é comestível ou venenoso.\n"
      ]
    },
    {
      "cell_type": "markdown",
      "metadata": {},
      "source": [
        "### Preparando o ambiente\n",
        "\n",
        "Nessa etapa iremos realizar todos os imports necessários para a execução do notebook"
      ]
    },
    {
      "cell_type": "code",
      "execution_count": null,
      "metadata": {
        "id": "fTgpr0uh_jve"
      },
      "outputs": [],
      "source": [
        "# configuração para não exibir os warnings\n",
        "import warnings\n",
        "warnings.filterwarnings(\"ignore\")\n",
        "\n",
        "# Imports necessários\n",
        "import pandas as pd\n",
        "import numpy as np\n",
        "import pickle\n",
        "import seaborn as sns\n",
        "import matplotlib.pyplot as plt\n",
        "from sklearn.preprocessing import LabelEncoder\n",
        "from sklearn.preprocessing import StandardScaler\n",
        "from sklearn.preprocessing import MinMaxScaler\n",
        "from sklearn.model_selection import train_test_split\n",
        "from sklearn.model_selection import KFold\n",
        "from sklearn.model_selection import StratifiedKFold\n",
        "from sklearn.model_selection import cross_val_score\n",
        "from sklearn.model_selection import GridSearchCV\n",
        "from sklearn.metrics import accuracy_score\n",
        "from sklearn.pipeline import Pipeline\n",
        "from sklearn.linear_model import LogisticRegression\n",
        "from sklearn.tree import DecisionTreeClassifier\n",
        "from sklearn.neighbors import KNeighborsClassifier\n",
        "from sklearn.naive_bayes import GaussianNB\n",
        "from sklearn.svm import SVC\n",
        "from sklearn.ensemble import RandomForestClassifier\n",
        "from sklearn.ensemble import ExtraTreesClassifier\n",
        "from collections import Counter\n"
      ]
    },
    {
      "cell_type": "markdown",
      "metadata": {},
      "source": [
        "### Carregando os dados"
      ]
    },
    {
      "cell_type": "code",
      "execution_count": null,
      "metadata": {
        "colab": {
          "base_uri": "https://localhost:8080/",
          "height": 236
        },
        "id": "qqhNARLU_uOR",
        "outputId": "5fdb80c0-8f94-40b6-8eb2-75e84f5eff91"
      },
      "outputs": [],
      "source": [
        "# URL de importação do dataset\n",
        "url = \"https://raw.githubusercontent.com/brufonseca/ml_classification/main/mushrooms2.csv\"\n",
        "\n",
        "# Importa os dados para um DataFrame\n",
        "dataset = pd.read_csv(url, delimiter=',')\n",
        "\n",
        "# Exibe as primeiras linhas do dataset\n",
        "dataset.head()"
      ]
    },
    {
      "cell_type": "code",
      "execution_count": null,
      "metadata": {
        "colab": {
          "base_uri": "https://localhost:8080/"
        },
        "id": "4FrnqaheA_Xj",
        "outputId": "be2c5ce0-3e34-4854-e887-cb2c2600b1ab"
      },
      "outputs": [],
      "source": [
        "# Exibe um resumo do dataset\n",
        "dataset.info()"
      ]
    },
    {
      "cell_type": "code",
      "execution_count": null,
      "metadata": {
        "colab": {
          "base_uri": "https://localhost:8080/",
          "height": 204
        },
        "id": "mGBQJjv8BEft",
        "outputId": "5692a92a-9923-4007-a761-8b11af31d856"
      },
      "outputs": [],
      "source": [
        "# Exibe as estatísticas do dataset\n",
        "dataset.describe(include='all')"
      ]
    },
    {
      "cell_type": "markdown",
      "metadata": {
        "id": "C5uGBDmsBP9F"
      },
      "source": [
        "#### Formato do dataset\n",
        "Vamos avaliar o formato do nosso dataset"
      ]
    },
    {
      "cell_type": "code",
      "execution_count": null,
      "metadata": {
        "colab": {
          "base_uri": "https://localhost:8080/"
        },
        "id": "H9q9daaPBRtD",
        "outputId": "18c95b91-731b-47e4-b662-16e63c35cb05"
      },
      "outputs": [],
      "source": [
        "print(\"Formato Dataset\", dataset.shape)"
      ]
    },
    {
      "cell_type": "markdown",
      "metadata": {},
      "source": [
        "### Analisando os dados"
      ]
    },
    {
      "cell_type": "markdown",
      "metadata": {
        "id": "YqUCcr9DavIr"
      },
      "source": [
        "#### Verificando se dados estão faltando\n",
        "\n",
        "Vamos verficar se alguma das colunas possui dados faltando. Em caso positivo, realizaremos o tratamento necessário"
      ]
    },
    {
      "cell_type": "code",
      "execution_count": null,
      "metadata": {
        "colab": {
          "base_uri": "https://localhost:8080/",
          "height": 805
        },
        "id": "5Vr59EjTawSX",
        "outputId": "0af74260-c698-47bb-a9c0-27b0e711427e"
      },
      "outputs": [],
      "source": [
        "#Exibe quantidade de valores nulos em cada coluna\n",
        "dataset.isnull().sum()"
      ]
    },
    {
      "cell_type": "markdown",
      "metadata": {
        "id": "iJA-8J4hBeA8"
      },
      "source": [
        "#### Analisando a coluna alvo\n",
        "\n",
        "*A coluna 'class' possui a informação se o cogumelo é comestível ou venenoso*\n"
      ]
    },
    {
      "cell_type": "code",
      "execution_count": null,
      "metadata": {
        "colab": {
          "base_uri": "https://localhost:8080/",
          "height": 178
        },
        "id": "ugqx8STdBi9P",
        "outputId": "528b4cfa-bc5a-4117-f907-e21c0dbfc842"
      },
      "outputs": [],
      "source": [
        "#Exibe a frequência de cada valor distinto da coluna\n",
        "dataset['class'].value_counts()"
      ]
    },
    {
      "cell_type": "code",
      "execution_count": null,
      "metadata": {
        "colab": {
          "base_uri": "https://localhost:8080/"
        },
        "id": "a9BZtShCBpye",
        "outputId": "8a74562a-3d78-4f0e-ee8c-5ead67539166"
      },
      "outputs": [],
      "source": [
        "# Exible os valores únicos da coluna\n",
        "print(dataset[\"class\"].unique())"
      ]
    },
    {
      "cell_type": "markdown",
      "metadata": {},
      "source": [
        "Verificando se o dataset está balanceado"
      ]
    },
    {
      "cell_type": "code",
      "execution_count": null,
      "metadata": {
        "colab": {
          "base_uri": "https://localhost:8080/",
          "height": 467
        },
        "id": "96HrbOF0B85h",
        "outputId": "fd2af65d-670c-459c-8ac8-6633d7f1cc51"
      },
      "outputs": [],
      "source": [
        "\n",
        "print(\"Distribuição dos tipos de cogumelo:\", Counter(dataset['class']))\n",
        "\n",
        "\n",
        "class_count = dataset['class'].value_counts()\n",
        "class_count.plot(kind='bar', title='Distribuição de tipos de cogumelos', ylabel='Quantidade', xlabel='Tipo de Cogumelo')\n",
        "plt.show()\n",
        "\n"
      ]
    },
    {
      "cell_type": "markdown",
      "metadata": {
        "id": "6qIZAm3rFyF9"
      },
      "source": [
        "*O dataset está balanceado*"
      ]
    },
    {
      "cell_type": "markdown",
      "metadata": {
        "id": "moIHVQHtF22s"
      },
      "source": [
        "### Preparando os dados\n",
        "\n",
        "\n"
      ]
    },
    {
      "cell_type": "code",
      "execution_count": null,
      "metadata": {
        "colab": {
          "base_uri": "https://localhost:8080/",
          "height": 236
        },
        "id": "EVdWm84nGRIM",
        "outputId": "bf381213-dd6d-479d-d1f0-8e81fc4d4a1d"
      },
      "outputs": [],
      "source": [
        "# Convertendo colunas do tipo object para category\n",
        "label_encoder=LabelEncoder()\n",
        "\n",
        "for column in dataset.columns:\n",
        "  if dataset[column].dtype == 'object':\n",
        "    dataset[column] = label_encoder.fit_transform(dataset[column])\n",
        "\n",
        "dataset.head()"
      ]
    },
    {
      "cell_type": "markdown",
      "metadata": {},
      "source": [
        "*Colunas com todos os valores iguais serão eliminadas, pois não contribuem para a classificação*"
      ]
    },
    {
      "cell_type": "code",
      "execution_count": null,
      "metadata": {
        "colab": {
          "base_uri": "https://localhost:8080/"
        },
        "id": "VWia0k1wGlYS",
        "outputId": "528a54d5-6121-4db4-8a68-2b58755725d9"
      },
      "outputs": [],
      "source": [
        "# Verificar quais colunas possuem todos os valores iguais\n",
        "cols = dataset.nunique() == 1\n",
        "cols_list = dataset.columns[cols].tolist()\n",
        "\n",
        "for col_name in cols_list:\n",
        "    print(col_name, \" possui todos os valores iguais e será eliminada\")\n",
        "    dataset=dataset.drop([col_name],axis=1)\n",
        "\n",
        "dataset.head()"
      ]
    },
    {
      "cell_type": "markdown",
      "metadata": {
        "id": "v-L-wqbvJeF9"
      },
      "source": [
        "### Separando os dados"
      ]
    },
    {
      "cell_type": "code",
      "execution_count": null,
      "metadata": {
        "id": "hr0dVxZpJfNt"
      },
      "outputs": [],
      "source": [
        "test_size = 0.25 # tamanho do conjunto de teste\n",
        "seed = 11 # semente aleatória\n",
        "\n",
        "# Separação em conjuntos de treino e teste\n",
        "X = dataset.drop(['class'], axis=1)\n",
        "y = dataset[\"class\"]\n",
        "\n",
        "X_train, X_test, y_train, y_test = train_test_split(X, y,\n",
        "    test_size=test_size, shuffle=True, random_state=seed, stratify=y) # holdout com estratificação\n",
        "\n",
        "# Parâmetros e partições da validação cruzada\n",
        "scoring = 'accuracy'\n",
        "n_splits = 10\n",
        "kfold = StratifiedKFold(n_splits=n_splits, shuffle=True, random_state=seed) # validação cruzada com estratificação\n",
        "\n"
      ]
    },
    {
      "cell_type": "markdown",
      "metadata": {
        "id": "aprae6ywK2jU"
      },
      "source": [
        "#### Modelos de Classificação\n",
        "\n",
        "Foram escolhidos os seguintes modelos: *Regressão Logística*, *KNN*, *Árvore de Decisão*, *Naive Bayes*, *SVM* e *Random Forest*  "
      ]
    },
    {
      "cell_type": "code",
      "execution_count": null,
      "metadata": {
        "colab": {
          "base_uri": "https://localhost:8080/",
          "height": 582
        },
        "id": "vHkMwM7ELRuL",
        "outputId": "320c45f5-6411-45f4-da28-c41291b66562"
      },
      "outputs": [],
      "source": [
        "np.random.seed(11) # Definição de uma semente global\n",
        "\n",
        "n_estimators = 100\n",
        "max_features = 3\n",
        "\n",
        "# Definição dos modelos de classificação\n",
        "models = {\n",
        "    'LR': LogisticRegression(max_iter=200, random_state=seed),\n",
        "    'KNN': KNeighborsClassifier(n_neighbors=5),\n",
        "    'CART': DecisionTreeClassifier(random_state=seed),\n",
        "    'NB': GaussianNB(),\n",
        "    'SVM': SVC(kernel='linear', random_state=seed),\n",
        "    'RF': RandomForestClassifier(n_estimators=n_estimators, max_features=max_features)\n",
        "}\n",
        "\n",
        "\n",
        "results = []\n",
        "\n",
        "\n",
        "# Avaliação dos modelos como conjunto de treinamento\n",
        "for name, model in models.items():\n",
        "    cv_results = cross_val_score(model, X_train, y_train, cv=kfold, scoring=scoring)\n",
        "    mean_cv_score = np.mean(cv_results)\n",
        "    results.append((name, cv_results))\n",
        "    print(f'{name} - Acurácia: {cv_results.mean():.2f} (+/- {cv_results.std():.2f})')\n",
        "\n",
        "# Boxplot de comparação dos modelos\n",
        "results_df = pd.DataFrame({name: scores for name, scores in results})\n",
        "results_df.boxplot()\n",
        "plt.title('Comparação de Modelos - Acurácia')\n",
        "plt.ylabel('Acurácia')\n",
        "plt.xlabel('Modelos')\n",
        "plt.show()"
      ]
    },
    {
      "cell_type": "markdown",
      "metadata": {
        "id": "xRmNSGtpisz9"
      },
      "source": [
        "#### Padronização e normalização dos dados"
      ]
    },
    {
      "cell_type": "code",
      "execution_count": null,
      "metadata": {
        "colab": {
          "base_uri": "https://localhost:8080/"
        },
        "id": "yMpYf3HJivDL",
        "outputId": "5bb9ea79-9370-4054-e7d0-a704e48567a4"
      },
      "outputs": [],
      "source": [
        "np.random.seed(11) # Definição de uma semente global\n",
        "\n",
        "n_estimators = 100\n",
        "max_features = 3\n",
        "\n",
        "# Definição dos modelos de classificação\n",
        "models = {\n",
        "    'LR': LogisticRegression(max_iter=200, random_state=seed),\n",
        "    'KNN': KNeighborsClassifier(n_neighbors=5),\n",
        "    'CART': DecisionTreeClassifier(random_state=seed),\n",
        "    'NB': GaussianNB(),\n",
        "    'SVM': SVC(kernel='linear', random_state=seed),\n",
        "    'RF': RandomForestClassifier(n_estimators=n_estimators, max_features=max_features)\n",
        "}\n",
        "\n",
        "\n",
        "# Definição dos pipelines de normalização\n",
        "pipelines = {\n",
        "    'Standard Scaling': StandardScaler(),\n",
        "    'MinMax Scaling': MinMaxScaler()\n",
        "}\n",
        "\n",
        "# Treinamento e avaliação dos modelos com pipelines de normalização\n",
        "for scale_name, scaler in pipelines.items():\n",
        "    print(f\"\\nPipeline de {scale_name}:\\n\")\n",
        "    for model_name, model in models.items():\n",
        "        pipeline = Pipeline([\n",
        "            ('scaler', scaler),\n",
        "            ('classifier', model)\n",
        "        ])\n",
        "\n",
        "        scores = cross_val_score(pipeline, X_train, y_train, cv=kfold, scoring='accuracy')\n",
        "        results.append((model_name + \"-\" + scale_name, scores))\n",
        "\n",
        "        print(f\"{model_name} - Acurácia: {scores.mean():.2f}, Desvio Padrão: {scores.std():.2f}\")\n",
        "\n",
        "\n"
      ]
    },
    {
      "cell_type": "code",
      "execution_count": null,
      "metadata": {
        "id": "SKC3T0AyknnD"
      },
      "outputs": [],
      "source": [
        "# Pipeline de Standard Scaling:\n",
        "\n",
        "# LR - Acurácia: 0.95, Desvio Padrão: 0.01\n",
        "# KNN - Acurácia: 1.00, Desvio Padrão: 0.00\n",
        "# CART - Acurácia: 1.00, Desvio Padrão: 0.00\n",
        "# NB - Acurácia: 0.93, Desvio Padrão: 0.01\n",
        "# SVM - Acurácia: 0.98, Desvio Padrão: 0.01\n",
        "# RF - Acurácia: 1.00, Desvio Padrão: 0.00\n",
        "\n",
        "# Pipeline de MinMax Scaling:\n",
        "\n",
        "# LR - Acurácia: 0.95, Desvio Padrão: 0.01\n",
        "# KNN - Acurácia: 1.00, Desvio Padrão: 0.00\n",
        "# CART - Acurácia: 1.00, Desvio Padrão: 0.00\n",
        "# NB - Acurácia: 0.93, Desvio Padrão: 0.01\n",
        "# SVM - Acurácia: 0.94, Desvio Padrão: 0.01\n",
        "# RF - Acurácia: 1.00, Desvio Padrão: 0.00"
      ]
    },
    {
      "cell_type": "markdown",
      "metadata": {
        "id": "v8CGbRD7mtt4"
      },
      "source": [
        "#### Otimização dos hiperparâmetros"
      ]
    },
    {
      "cell_type": "code",
      "execution_count": null,
      "metadata": {
        "colab": {
          "base_uri": "https://localhost:8080/"
        },
        "id": "XBMN92wXmwtP",
        "outputId": "3dc64a2b-32cb-4161-97a6-a5065ddb023c"
      },
      "outputs": [],
      "source": [
        "np.random.seed(11) # Definição de uma semente global\n",
        "\n",
        "# Definição dos modelos e dos espaços de hiperparâmetros para Grid Search\n",
        "param_grids = {\n",
        "    'Naive Bayes': {\n",
        "        'classifier': [GaussianNB()],\n",
        "        'classifier__var_smoothing': [1e-9, 1e-8, 1e-7, 1e-6, 1e-5]\n",
        "    },\n",
        "    'KNN': {\n",
        "        'classifier': [KNeighborsClassifier()],\n",
        "        'classifier__n_neighbors': [1, 3, 5, 7, 9, 11, 13, 15, 17, 19, 21],\n",
        "        'classifier__weights': ['uniform', 'distance'],\n",
        "        'classifier__metric': [\"euclidean\", \"manhattan\", \"minkowski\"]\n",
        "    },\n",
        "    'Logistic Regression': {\n",
        "        'classifier': [LogisticRegression(max_iter=1000)],\n",
        "        'classifier__C': [0.1, 1, 10,100],\n",
        "        'classifier__penalty': ['l1', 'l2', 'elasticnet', 'none'],\n",
        "        'classifier__solver': ['newton-cg', 'lbfgs', 'liblinear', 'saga']\n",
        "    },\n",
        "    'Decision Tree': {\n",
        "        'classifier': [DecisionTreeClassifier()],\n",
        "        'classifier__criterion': ['gini', 'entropy'],\n",
        "        'classifier__max_depth': [None, 5, 10, 15],\n",
        "        'classifier__min_samples_split': [2, 5, 10]\n",
        "    },\n",
        "    'Random Forest': {\n",
        "        'classifier': [RandomForestClassifier()],\n",
        "        'classifier__n_estimators': [10, 50, 100, 150],\n",
        "        'classifier__max_depth': [None, 5, 10, 20],\n",
        "        'classifier__min_samples_split': [2, 5, 10],\n",
        "        'classifier__max_features': ['auto', 'sqrt', 'log2'],\n",
        "        'classifier__min_samples_leaf': [1, 2, 4]\n",
        "    },\n",
        "    'SVM': {\n",
        "        'classifier': [SVC()],\n",
        "        'classifier__C': [0.1, 1, 10, 100],\n",
        "        'classifier__kernel': ['linear', 'rbf'],\n",
        "        'classifier__gamma': [1, 0.1, 0.01, 0.001]\n",
        "\n",
        "    }\n",
        "}\n",
        "\n",
        "# Dicionário para armazenar os melhores modelos e suas performances\n",
        "selected_models = {}\n",
        "\n",
        "# Realização do Grid Search para cada modelo\n",
        "for model_name, param_grid in param_grids.items():\n",
        "    print(f\"\\nOtimização de hiperparâmetros para {model_name}...\\n\")\n",
        "\n",
        "    pipeline = Pipeline([\n",
        "        ('scaler', StandardScaler()),\n",
        "        ('classifier', param_grid['classifier'][0])  # Inicializar o classificador\n",
        "    ])\n",
        "\n",
        "    grid_search = GridSearchCV(pipeline, param_grid, cv=kfold, scoring=scoring, n_jobs=-1)\n",
        "    grid_search.fit(X_train, y_train)\n",
        "\n",
        "    selected_models[model_name] = {\n",
        "        'best_estimator': grid_search.best_estimator_,\n",
        "        'best_params': grid_search.best_params_,\n",
        "        'best_score': grid_search.best_score_\n",
        "    }\n",
        "\n",
        "    print(f\"Melhores parâmetros para {model_name}: {grid_search.best_params_}\")\n",
        "    print(f\"Melhor acurácia para {model_name}: {grid_search.best_score_:.2f}\")\n",
        "\n",
        "#Execução demorou 36 minutos\n"
      ]
    },
    {
      "cell_type": "code",
      "execution_count": null,
      "metadata": {
        "id": "86MrmLj1gV1g"
      },
      "outputs": [],
      "source": [
        "# Otimização de hiperparâmetros para Naive Bayes...\n",
        "\n",
        "# Melhores parâmetros para Naive Bayes: {'classifier': GaussianNB(), 'classifier__var_smoothing': 1e-09}\n",
        "# Melhor acurácia média para Naive Bayes: 0.93\n",
        "\n",
        "# Otimização de hiperparâmetros para KNN...\n",
        "\n",
        "# Melhores parâmetros para KNN: {'classifier': KNeighborsClassifier(), 'classifier__metric': 'euclidean', 'classifier__n_neighbors': 1, 'classifier__weights': 'uniform'}\n",
        "# Melhor acurácia média para KNN: 1.00\n",
        "\n",
        "# Otimização de hiperparâmetros para Logistic Regression...\n",
        "\n",
        "# Melhores parâmetros para Logistic Regression: {'classifier': LogisticRegression(max_iter=1000), 'classifier__C': 10, 'classifier__penalty': 'l1', 'classifier__solver': 'saga'}\n",
        "# Melhor acurácia média para Logistic Regression: 0.97\n",
        "\n",
        "# Otimização de hiperparâmetros para Decision Tree...\n",
        "\n",
        "# Melhores parâmetros para Decision Tree: {'classifier': DecisionTreeClassifier(), 'classifier__criterion': 'gini', 'classifier__max_depth': None, 'classifier__min_samples_split': 2}\n",
        "# Melhor acurácia média para Decision Tree: 1.00\n",
        "\n",
        "# Otimização de hiperparâmetros para Random Forest...\n",
        "\n",
        "# Melhores parâmetros para Random Forest: {'classifier': RandomForestClassifier(), 'classifier__max_depth': None, 'classifier__max_features': 'sqrt', 'classifier__min_samples_leaf': 1, 'classifier__min_samples_split': 2, 'classifier__n_estimators': 10}\n",
        "# Melhor acurácia média para Random Forest: 1.00\n",
        "\n",
        "# Otimização de hiperparâmetros para SVM...\n",
        "\n",
        "# Melhores parâmetros para SVM: {'classifier': SVC(), 'classifier__C': 1, 'classifier__gamma': 0.1, 'classifier__kernel': 'rbf'}\n",
        "# Melhor acurácia média para SVM: 1.00"
      ]
    },
    {
      "cell_type": "markdown",
      "metadata": {
        "id": "K5-9qOyepXTg"
      },
      "source": [
        "#### Finalização do Modelo\n",
        "\n",
        "Os melhores resultados foram observados para os modelos: *KNN*, *Decision Tree*,*Random Forest* e *SVM*"
      ]
    },
    {
      "cell_type": "code",
      "execution_count": null,
      "metadata": {},
      "outputs": [],
      "source": [
        "# Melhores parâmetros para KNN: {'classifier': KNeighborsClassifier(), 'classifier__metric': 'euclidean', 'classifier__n_neighbors': 1, 'classifier__weights': 'uniform'}\n",
        "# Melhor acurácia média para KNN: 1.00\n",
        "\n",
        "# Melhores parâmetros para Decision Tree: {'classifier': DecisionTreeClassifier(), 'classifier__criterion': 'gini', 'classifier__max_depth': None, 'classifier__min_samples_split': 2}\n",
        "# Melhor acurácia média para Decision Tree: 1.00\n",
        "\n",
        "# Melhores parâmetros para Random Forest: {'classifier': RandomForestClassifier(), 'classifier__max_depth': None, 'classifier__max_features': 'sqrt', 'classifier__min_samples_leaf': 1, 'classifier__min_samples_split': 2, 'classifier__n_estimators': 10}\n",
        "# Melhor acurácia média para Random Forest: 1.00\n",
        "\n",
        "# Melhores parâmetros para SVM: {'classifier': SVC(), 'classifier__C': 1, 'classifier__gamma': 0.1, 'classifier__kernel': 'rbf'}\n",
        "# Melhor acurácia média para SVM: 1.00"
      ]
    },
    {
      "cell_type": "code",
      "execution_count": null,
      "metadata": {
        "colab": {
          "base_uri": "https://localhost:8080/"
        },
        "id": "vWh9jtSWpakE",
        "outputId": "bd091a03-977c-4d4f-ed51-873167212ea1"
      },
      "outputs": [],
      "source": [
        "# Melhores parâmetros para Decision Tree: {'classifier': DecisionTreeClassifier(), 'classifier__criterion': 'gini', 'classifier__max_depth': None, 'classifier__min_samples_split': 2}\n",
        "# Melhor acurácia média para Decision Tree: 1.00\n",
        "\n",
        "# Avaliando com o Decision Tree\n",
        "\n",
        "np.random.seed(11)\n",
        "\n",
        "# Preparação do modelo\n",
        "scaler = MinMaxScaler().fit(X_train)\n",
        "rescaledX = scaler.transform(X_train) # aplicação da normalização no conjunto de treino\n",
        "model = DecisionTreeClassifier(criterion='gini',max_depth=None, min_samples_split=2)\n",
        "model.fit(rescaledX, y_train)\n",
        "\n",
        "# Estimativa da acurácia no conjunto de teste\n",
        "rescaledTestX = scaler.transform(X_test) # aplicação da normalização no conjunto de teste\n",
        "predictions = model.predict(rescaledTestX)\n",
        "print(accuracy_score(y_test, predictions))"
      ]
    },
    {
      "cell_type": "markdown",
      "metadata": {
        "id": "QR7pm0x4pi1k"
      },
      "source": [
        "##### Rodando o modelo a partir de um pipeline com os hiperparâmetros otimizados."
      ]
    },
    {
      "cell_type": "code",
      "execution_count": null,
      "metadata": {
        "colab": {
          "base_uri": "https://localhost:8080/"
        },
        "id": "oPY0HprppkSC",
        "outputId": "d5a8b611-3721-4c7c-a812-aaf2a5c81566"
      },
      "outputs": [],
      "source": [
        "np.random.seed(11)\n",
        "\n",
        "model = DecisionTreeClassifier(criterion='gini',max_depth=None, min_samples_split=2)\n",
        "\n",
        "pipeline = Pipeline(steps=[('MinMaxScaler', MinMaxScaler()), ('KNN', model)])\n",
        "\n",
        "pipeline.fit(X_train, y_train)\n",
        "predictions = pipeline.predict(X_test)\n",
        "print(accuracy_score(y_test, predictions))"
      ]
    },
    {
      "cell_type": "markdown",
      "metadata": {
        "id": "NWxhfZsMVef6"
      },
      "source": [
        "##### Salvando os arquivos"
      ]
    },
    {
      "cell_type": "code",
      "execution_count": null,
      "metadata": {
        "id": "t_EiaOQhVgTv"
      },
      "outputs": [],
      "source": [
        "# Salvando o modelo\n",
        "model_filename = 'dt_mushroom_classifier.pkl'\n",
        "with open(model_filename, 'wb') as file:\n",
        "    pickle.dump(model, file)\n",
        "\n",
        "# Salvando o scaler\n",
        "scaler_filename = 'minmax_scaler_mushroom.pkl'\n",
        "with open(scaler_filename, 'wb') as file:\n",
        "    pickle.dump(scaler, file)\n",
        "\n",
        "# Salvando o pipeline\n",
        "pipeline_filename = 'dt_mushroom_pipeline.pkl'\n",
        "with open(pipeline_filename, 'wb') as file:\n",
        "    pickle.dump(pipeline, file)\n",
        "\n",
        "# Salvando X_test e y_test\n",
        "X_test_df = pd.DataFrame(X_test, columns=dataset.columns[1:])\n",
        "y_test_df = pd.DataFrame(y_test, columns=[dataset.columns[0]])\n",
        "X_test_df.to_csv(\"X_test_dataset_mushroom.csv\", index=False)\n",
        "y_test_df.to_csv(\"y_test_dataset_mushroom.csv\", index=False)\n"
      ]
    },
    {
      "cell_type": "markdown",
      "metadata": {
        "id": "ok2ses1B2IBP"
      },
      "source": [
        "##### Simulando a aplicação do modelo em dados não vistos"
      ]
    },
    {
      "cell_type": "code",
      "execution_count": null,
      "metadata": {
        "colab": {
          "base_uri": "https://localhost:8080/",
          "height": 75
        },
        "id": "NHia_gWJ2JJV",
        "outputId": "a561a2d2-c1d2-4efc-9773-e2e131865f98"
      },
      "outputs": [],
      "source": [
        "scaler = MinMaxScaler().fit(X) \n",
        "rescaledX = scaler.transform(X)\n",
        "model.fit(rescaledX, y)"
      ]
    },
    {
      "cell_type": "code",
      "execution_count": null,
      "metadata": {
        "colab": {
          "base_uri": "https://localhost:8080/"
        },
        "id": "mWXQQ2LMbekE",
        "outputId": "3635d236-d9e3-4b5a-bf47-013ef13de319"
      },
      "outputs": [],
      "source": [
        "data = {'cap-shape':[2,3],\n",
        "        'cap-surface':[2,2],\n",
        "        'cap-color':[4,2],\n",
        "        'bruises':[0,0],\n",
        "        'odor':[5,7],\n",
        "        'gill-attachment':[0,1],\n",
        "        'gill-spacing':[0,0],\n",
        "        'gill-size':[0,1],\n",
        "        'gill-color':[6,0],\n",
        "        'stalk-shape':[0,1],\n",
        "        'stalk-root':[0,0],\n",
        "        'stalk-surface-above-ring':[2,2],\n",
        "        'stalk-surface-below-ring':[2,2],\n",
        "        'stalk-color-above-ring':[5,6],\n",
        "        'stalk-color-below-ring':[5,7],\n",
        "        'veil-color':[1,2],\n",
        "        'ring-number':[1,1],\n",
        "        'ring-type':[4,0],\n",
        "        'spore-print-color':[4,7],\n",
        "        'population':[1,4],\n",
        "        'habitat':[2,4]\n",
        "      }\n",
        "\n",
        "atributos = ['cap-shape', 'cap-surface', 'cap-color', 'bruises', 'odor',\n",
        "       'gill-attachment', 'gill-spacing', 'gill-size', 'gill-color',\n",
        "       'stalk-shape', 'stalk-root', 'stalk-surface-above-ring',\n",
        "       'stalk-surface-below-ring', 'stalk-color-above-ring',\n",
        "       'stalk-color-below-ring', 'veil-color', 'ring-number', 'ring-type',\n",
        "       'spore-print-color', 'population', 'habitat']\n",
        "\n",
        "\n",
        "entrada = pd.DataFrame(data, columns=atributos)\n",
        "\n",
        "X_entrada = array_entrada[:]\n",
        "\n",
        "# Padronização nos dados de entrada usando o scaler utilizado em X\n",
        "rescaledEntradaX = scaler.transform(X_entrada)\n",
        "print(rescaledEntradaX)"
      ]
    },
    {
      "cell_type": "code",
      "execution_count": null,
      "metadata": {
        "colab": {
          "base_uri": "https://localhost:8080/"
        },
        "id": "b4Czb9JplH8j",
        "outputId": "361d9326-558e-4540-8577-c0a4486f1c1b"
      },
      "outputs": [],
      "source": [
        "# Predição de classes dos dados de entrada\n",
        "saidas = model.predict(rescaledEntradaX)\n",
        "print(saidas)"
      ]
    }
  ],
  "metadata": {
    "colab": {
      "provenance": []
    },
    "kernelspec": {
      "display_name": "Python 3",
      "name": "python3"
    },
    "language_info": {
      "name": "python"
    }
  },
  "nbformat": 4,
  "nbformat_minor": 0
}
